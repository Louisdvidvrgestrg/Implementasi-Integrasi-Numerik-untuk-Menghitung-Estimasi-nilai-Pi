{
  "nbformat": 4,
  "nbformat_minor": 0,
  "metadata": {
    "colab": {
      "provenance": [],
      "authorship_tag": "ABX9TyM0MvP9gJkkHZJ8XEmuQBZW",
      "include_colab_link": true
    },
    "kernelspec": {
      "name": "python3",
      "display_name": "Python 3"
    },
    "language_info": {
      "name": "python"
    }
  },
  "cells": [
    {
      "cell_type": "markdown",
      "metadata": {
        "id": "view-in-github",
        "colab_type": "text"
      },
      "source": [
        "<a href=\"https://colab.research.google.com/github/Louisdvidvrgestrg/Implementasi-Integrasi-Numerik-untuk-Menghitung-Estimasi-nilai-Pi/blob/main/Implementasi_Integrasi_Numerik_untuk_Menghitung_Estimasi_nilai_Pi.ipynb\" target=\"_parent\"><img src=\"https://colab.research.google.com/assets/colab-badge.svg\" alt=\"Open In Colab\"/></a>"
      ]
    },
    {
      "cell_type": "code",
      "execution_count": 3,
      "metadata": {
        "colab": {
          "base_uri": "https://localhost:8080/"
        },
        "id": "ZrQnLPnk6678",
        "outputId": "23fa2ba1-bcbd-4ab9-d629-74bdefcb9328"
      },
      "outputs": [
        {
          "output_type": "stream",
          "name": "stdout",
          "text": [
            "Masukkan NIM Anda: 21120122140154\n",
            "Metode yang digunakan: Simpson 1/3 Integration\n",
            "\n",
            "N = 10, Approximated Pi = 3.141592613939215, RMS Error = 3.9650577932093256e-08, Execution Time = 3.647804260253906e-05 seconds\n",
            "N = 100, Approximated Pi = 3.141592653589754, RMS Error = 3.907985046680551e-14, Execution Time = 4.744529724121094e-05 seconds\n",
            "N = 1000, Approximated Pi = 3.141592653589794, RMS Error = 8.881784197001252e-16, Execution Time = 0.0003788471221923828 seconds\n",
            "N = 10000, Approximated Pi = 3.141592653589784, RMS Error = 9.325873406851315e-15, Execution Time = 0.004021406173706055 seconds\n",
            "\n",
            "\n"
          ]
        }
      ],
      "source": [
        "import numpy as np\n",
        "import time\n",
        "\n",
        "# Fungsi f(x) yang akan diintegrasikan\n",
        "def f(x):\n",
        "    return 4 / (1 + x**2)\n",
        "\n",
        "# Metode integrasi Reimann\n",
        "def reimann_integration(a, b, N):\n",
        "    h = (b - a) / N\n",
        "    integral = sum(f(a + i * h) for i in range(N))\n",
        "    integral *= h\n",
        "    return integral\n",
        "\n",
        "# Metode integrasi trapezoid\n",
        "def trapezoid_integration(a, b, N):\n",
        "    h = (b - a) / N\n",
        "    integral = 0.5 * (f(a) + f(b))\n",
        "    for i in range(1, N):\n",
        "        integral += f(a + i * h)\n",
        "    integral *= h\n",
        "    return integral\n",
        "\n",
        "# Metode integrasi Simpson 1/3\n",
        "def simpson_integration(a, b, N):\n",
        "    if N % 2 == 1:\n",
        "        N += 1\n",
        "    h = (b - a) / N\n",
        "    integral = f(a) + f(b)\n",
        "    for i in range(1, N, 2):\n",
        "        integral += 4 * f(a + i * h)\n",
        "    for i in range(2, N, 2):\n",
        "        integral += 2 * f(a + i * h)\n",
        "    integral *= h / 3\n",
        "    return integral\n",
        "\n",
        "# Metode integrasi Gauss-Legendre\n",
        "def gauss_legendre_integration(a, b, N):\n",
        "    [x, w] = np.polynomial.legendre.leggauss(N)\n",
        "    integral = 0.5 * (b - a) * sum(w * f(0.5 * (b - a) * x + 0.5 * (b + a)))\n",
        "    return integral\n",
        "\n",
        "# Menghitung galat RMS antara nilai pi yang diaproksimasi dan nilai referensi pi\n",
        "def calculate_rms_error(approx_pi, true_pi):\n",
        "    return np.sqrt(np.mean((approx_pi - true_pi) ** 2))\n",
        "\n",
        "def main():\n",
        "    true_pi = 3.14159265358979323846\n",
        "    N_values = [10, 100, 1000, 10000]\n",
        "\n",
        "    nim = input(\"Masukkan NIM Anda: \")\n",
        "    last_two_digits = int(nim[-2:])\n",
        "    method = last_two_digits % 4\n",
        "\n",
        "    if method == 0:\n",
        "        methods = [(reimann_integration, \"Reimann Integration\")]\n",
        "    elif method == 1:\n",
        "        methods = [(trapezoid_integration, \"Trapezoid Integration\")]\n",
        "    elif method == 2:\n",
        "        methods = [(simpson_integration, \"Simpson 1/3 Integration\")]\n",
        "    elif method == 3:\n",
        "        methods = [(gauss_legendre_integration, \"Gauss-Legendre Integration\")]\n",
        "\n",
        "    for integration_method, method_name in methods:\n",
        "        print(f'Metode yang digunakan: {method_name}\\n')\n",
        "\n",
        "        results = []\n",
        "\n",
        "        for N in N_values:\n",
        "            start_time = time.time()\n",
        "            approx_pi = integration_method(0, 1, N)\n",
        "            end_time = time.time()\n",
        "            rms_error = calculate_rms_error(approx_pi, true_pi)\n",
        "            exec_time = end_time - start_time\n",
        "            results.append((N, approx_pi, rms_error, exec_time))\n",
        "\n",
        "        for result in results:\n",
        "            print(f'N = {result[0]}, Approximated Pi = {result[1]}, RMS Error = {result[2]}, Execution Time = {result[3]} seconds')\n",
        "        print(\"\\n\")\n",
        "\n",
        "if __name__ == \"__main__\":\n",
        "    main()\n"
      ]
    }
  ]
}